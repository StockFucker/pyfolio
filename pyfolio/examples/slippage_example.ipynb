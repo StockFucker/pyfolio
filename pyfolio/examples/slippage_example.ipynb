{
 "cells": [
  {
   "cell_type": "markdown",
   "metadata": {},
   "source": [
    "# Slippage Analysis"
   ]
  },
  {
   "cell_type": "markdown",
   "metadata": {},
   "source": [
    "When evaluating a strategy using backtest results, we often want to know how sensitive it's performance is to implementation shortfall or slippage. pyfolio's transactions tear sheet can create \"slippage sweep\" plots that display strategy performance under various slippage assumptions. \n",
    "\n",
    "Additional per-dollar slippage can be applied to returns before running a tear sheet by providing `create_full_tearsheet` with the a level of slippage in basis points (1% == 100 basis points) as the `slippage` keyword argument. The slippage plots in the transactions tear sheet will display returns with slippage added to the **unadjusted** returns. \n",
    "\n",
    "For example, if you run a backtest with no transaction costs and call `create_full_tearsheet(returns, positions, transactions, slippage=5)`, 5 bps of slippage will be applied to `returns` before all plots and figures, with the exception of the slippage sweep plots, are generated.\n",
    "\n",
    "It is important to emphasize that the slippage plots will display performance under **additional** slippage. If the passed performance data already has slippage applied, the 5 bps slippage equity curve will represent performance under 5 bps of slippage in addition to the already simulated slippage penalty. If slippage is already applied to the performance results, pass `slippage=0` to the `create_full_tearsheet` to trigger the creation of the additional slippage sweep plots without applying any additional slippage to the returns time series used throughout the rest of the tear sheet."
   ]
  },
  {
   "cell_type": "code",
   "execution_count": 3,
   "metadata": {
    "collapsed": false
   },
   "outputs": [
    {
     "name": "stderr",
     "output_type": "stream",
     "text": [
      "/usr/local/lib/python2.7/site-packages/matplotlib/font_manager.py:273: UserWarning: Matplotlib is building the font cache using fc-list. This may take a moment.\n",
      "  warnings.warn('Matplotlib is building the font cache using fc-list. This may take a moment.')\n"
     ]
    }
   ],
   "source": [
    "%matplotlib inline\n",
    "import pyfolio as pf\n",
    "import gzip\n",
    "import pandas as pd"
   ]
  },
  {
   "cell_type": "code",
   "execution_count": 4,
   "metadata": {
    "collapsed": false
   },
   "outputs": [],
   "source": [
    "transactions = pd.read_csv(gzip.open('../tests/test_data/test_txn.csv.gz'),\n",
    "                    index_col=0, parse_dates=False)\n",
    "positions = pd.read_csv(gzip.open('../tests/test_data/test_pos.csv.gz'),\n",
    "                    index_col=0, parse_dates=False)\n",
    "returns = pd.read_csv(gzip.open('../tests/test_data/test_returns.csv.gz'),\n",
    "                    index_col=0, parse_dates=False, header=None)[1]\n",
    "gross_lev = pd.read_csv(gzip.open('../tests/test_data/test_gross_lev.csv.gz'),\n",
    "                    index_col=0, parse_dates=False, header=None)[1]\n",
    "# returns.index = returns.index.tz_localize(\"UTC\")\n",
    "# positions.index = positions.index.tz_localize(\"UTC\")\n",
    "# transactions.index = transactions.index.tz_localize(\"UTC\")\n",
    "# gross_lev.index = gross_lev.index.tz_localize(\"UTC\")"
   ]
  },
  {
   "cell_type": "code",
   "execution_count": 5,
   "metadata": {
    "collapsed": false,
    "scrolled": false
   },
   "outputs": [
    {
     "ename": "TypeError",
     "evalue": "Cannot compare type 'Timestamp' with type 'str'",
     "output_type": "error",
     "traceback": [
      "\u001b[0;31m---------------------------------------------------------------------------\u001b[0m",
      "\u001b[0;31mTypeError\u001b[0m                                 Traceback (most recent call last)",
      "\u001b[0;32m<ipython-input-5-0626ba342dba>\u001b[0m in \u001b[0;36m<module>\u001b[0;34m()\u001b[0m\n\u001b[0;32m----> 1\u001b[0;31m \u001b[0mpf\u001b[0m\u001b[0;34m.\u001b[0m\u001b[0mcreate_full_tear_sheet\u001b[0m\u001b[0;34m(\u001b[0m\u001b[0mreturns\u001b[0m\u001b[0;34m,\u001b[0m \u001b[0mpositions\u001b[0m\u001b[0;34m,\u001b[0m \u001b[0mtransactions\u001b[0m\u001b[0;34m,\u001b[0m \u001b[0mgross_lev\u001b[0m\u001b[0;34m=\u001b[0m\u001b[0mgross_lev\u001b[0m\u001b[0;34m,\u001b[0m \u001b[0mslippage\u001b[0m\u001b[0;34m=\u001b[0m\u001b[0;36m0\u001b[0m\u001b[0;34m)\u001b[0m\u001b[0;34m\u001b[0m\u001b[0m\n\u001b[0m",
      "\u001b[0;32m/Users/sgcy/data/pyfolio/pyfolio/tears.pyc\u001b[0m in \u001b[0;36mcreate_full_tear_sheet\u001b[0;34m(returns, positions, transactions, market_data, benchmark_rets, gross_lev, slippage, live_start_date, sector_mappings, bayesian, round_trips, hide_positions, cone_std, bootstrap, unadjusted_returns, set_context)\u001b[0m\n\u001b[1;32m    152\u001b[0m \u001b[0;34m\u001b[0m\u001b[0m\n\u001b[1;32m    153\u001b[0m     \u001b[0;31m# If the strategy's history is longer than the benchmark's, limit strategy\u001b[0m\u001b[0;34m\u001b[0m\u001b[0;34m\u001b[0m\u001b[0m\n\u001b[0;32m--> 154\u001b[0;31m     \u001b[0;32mif\u001b[0m \u001b[0mreturns\u001b[0m\u001b[0;34m.\u001b[0m\u001b[0mindex\u001b[0m\u001b[0;34m[\u001b[0m\u001b[0;36m0\u001b[0m\u001b[0;34m]\u001b[0m \u001b[0;34m<\u001b[0m \u001b[0mbenchmark_rets\u001b[0m\u001b[0;34m.\u001b[0m\u001b[0mindex\u001b[0m\u001b[0;34m[\u001b[0m\u001b[0;36m0\u001b[0m\u001b[0;34m]\u001b[0m\u001b[0;34m:\u001b[0m\u001b[0;34m\u001b[0m\u001b[0m\n\u001b[0m\u001b[1;32m    155\u001b[0m         \u001b[0mreturns\u001b[0m \u001b[0;34m=\u001b[0m \u001b[0mreturns\u001b[0m\u001b[0;34m[\u001b[0m\u001b[0mreturns\u001b[0m\u001b[0;34m.\u001b[0m\u001b[0mindex\u001b[0m \u001b[0;34m>\u001b[0m \u001b[0mbenchmark_rets\u001b[0m\u001b[0;34m.\u001b[0m\u001b[0mindex\u001b[0m\u001b[0;34m[\u001b[0m\u001b[0;36m0\u001b[0m\u001b[0;34m]\u001b[0m\u001b[0;34m]\u001b[0m\u001b[0;34m\u001b[0m\u001b[0m\n\u001b[1;32m    156\u001b[0m \u001b[0;34m\u001b[0m\u001b[0m\n",
      "\u001b[0;32mpandas/tslib.pyx\u001b[0m in \u001b[0;36mpandas.tslib._Timestamp.__richcmp__ (pandas/tslib.c:18619)\u001b[0;34m()\u001b[0m\n",
      "\u001b[0;31mTypeError\u001b[0m: Cannot compare type 'Timestamp' with type 'str'"
     ]
    }
   ],
   "source": [
    "pf.create_full_tear_sheet(returns, positions, transactions, gross_lev=gross_lev, slippage=0)"
   ]
  },
  {
   "cell_type": "code",
   "execution_count": 8,
   "metadata": {
    "collapsed": false
   },
   "outputs": [
    {
     "name": "stdout",
     "output_type": "stream",
     "text": [
      "Date\n",
      "1993-02-01 00:00:00+00:00    0.007112\n",
      "1993-02-02 00:00:00+00:00    0.002118\n",
      "1993-02-03 00:00:00+00:00    0.010572\n",
      "1993-02-04 00:00:00+00:00    0.004184\n",
      "1993-02-05 00:00:00+00:00   -0.000696\n",
      "1993-02-08 00:00:00+00:00    0.000000\n",
      "1993-02-09 00:00:00+00:00   -0.006949\n",
      "1993-02-10 00:00:00+00:00    0.001400\n",
      "1993-02-11 00:00:00+00:00    0.004893\n",
      "1993-02-12 00:00:00+00:00   -0.007651\n",
      "1993-02-16 00:00:00+00:00   -0.025228\n",
      "1993-02-17 00:00:00+00:00   -0.000718\n",
      "1993-02-18 00:00:00+00:00   -0.000721\n",
      "1993-02-19 00:00:00+00:00    0.003601\n",
      "1993-02-22 00:00:00+00:00    0.003586\n",
      "1993-02-23 00:00:00+00:00   -0.000714\n",
      "1993-02-24 00:00:00+00:00    0.012876\n",
      "1993-02-25 00:00:00+00:00    0.002118\n",
      "1993-02-26 00:00:00+00:00    0.001409\n",
      "1993-03-01 00:00:00+00:00   -0.002815\n",
      "1993-03-02 00:00:00+00:00    0.014821\n",
      "1993-03-03 00:00:00+00:00    0.004172\n",
      "1993-03-04 00:00:00+00:00   -0.005540\n",
      "1993-03-05 00:00:00+00:00   -0.002786\n",
      "1993-03-08 00:00:00+00:00    0.022346\n",
      "1993-03-09 00:00:00+00:00   -0.003416\n",
      "1993-03-10 00:00:00+00:00    0.002057\n",
      "1993-03-11 00:00:00+00:00   -0.002736\n",
      "1993-03-12 00:00:00+00:00   -0.010289\n",
      "1993-03-15 00:00:00+00:00    0.004852\n",
      "                               ...   \n",
      "2016-04-11 00:00:00+00:00   -0.002347\n",
      "2016-04-12 00:00:00+00:00    0.009313\n",
      "2016-04-13 00:00:00+00:00    0.010101\n",
      "2016-04-14 00:00:00+00:00    0.000048\n",
      "2016-04-15 00:00:00+00:00   -0.001106\n",
      "2016-04-18 00:00:00+00:00    0.007027\n",
      "2016-04-19 00:00:00+00:00    0.003154\n",
      "2016-04-20 00:00:00+00:00    0.000953\n",
      "2016-04-21 00:00:00+00:00   -0.005378\n",
      "2016-04-22 00:00:00+00:00    0.000000\n",
      "2016-04-25 00:00:00+00:00   -0.001723\n",
      "2016-04-26 00:00:00+00:00    0.001486\n",
      "2016-04-27 00:00:00+00:00    0.002058\n",
      "2016-04-28 00:00:00+00:00   -0.009076\n",
      "2016-04-29 00:00:00+00:00   -0.005399\n",
      "2016-05-02 00:00:00+00:00    0.007948\n",
      "2016-05-03 00:00:00+00:00   -0.008703\n",
      "2016-05-04 00:00:00+00:00   -0.005578\n",
      "2016-05-05 00:00:00+00:00   -0.000195\n",
      "2016-05-06 00:00:00+00:00    0.003659\n",
      "2016-05-09 00:00:00+00:00    0.000826\n",
      "2016-05-10 00:00:00+00:00    0.012434\n",
      "2016-05-11 00:00:00+00:00   -0.009355\n",
      "2016-05-12 00:00:00+00:00    0.000291\n",
      "2016-05-13 00:00:00+00:00   -0.008714\n",
      "2016-05-16 00:00:00+00:00    0.009865\n",
      "2016-05-17 00:00:00+00:00   -0.009334\n",
      "2016-05-18 00:00:00+00:00    0.000293\n",
      "2016-05-19 00:00:00+00:00   -0.003465\n",
      "2016-05-20 00:00:00+00:00    0.006317\n",
      "Name: SPY, dtype: float64\n"
     ]
    }
   ],
   "source": [
    "benchmark_rets = pf.utils.get_symbol_rets('SPY')\n",
    "print benchmark_rets"
   ]
  },
  {
   "cell_type": "code",
   "execution_count": null,
   "metadata": {
    "collapsed": true
   },
   "outputs": [],
   "source": []
  }
 ],
 "metadata": {
  "kernelspec": {
   "display_name": "Python 2",
   "language": "python",
   "name": "python2"
  },
  "language_info": {
   "codemirror_mode": {
    "name": "ipython",
    "version": 2
   },
   "file_extension": ".py",
   "mimetype": "text/x-python",
   "name": "python",
   "nbconvert_exporter": "python",
   "pygments_lexer": "ipython2",
   "version": "2.7.11"
  }
 },
 "nbformat": 4,
 "nbformat_minor": 0
}
